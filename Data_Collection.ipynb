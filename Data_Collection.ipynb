{
 "cells": [
  {
   "cell_type": "code",
   "execution_count": 1,
   "id": "f35123d0-9854-4023-ab6d-80d570c3de27",
   "metadata": {},
   "outputs": [],
   "source": [
    "from bs4 import BeautifulSoup\n",
    "import pandas as pd\n",
    "import numpy as np\n",
    "import re\n",
    "import requests\n",
    "import matplotlib.pyplot as plt\n",
    "from IPython.display import display, HTML\n",
    "from IPython.display import display"
   ]
  },
  {
   "cell_type": "code",
   "execution_count": 2,
   "id": "ca9b291c-a5ec-4c22-81bf-24ffe882c0d9",
   "metadata": {},
   "outputs": [],
   "source": [
    "file_path = \"hotels_pages\\\\Booking2.html\"\n",
    "with open(file_path, 'r', encoding='utf-8') as file:\n",
    "    content = file.read()\n",
    "\n",
    "soup = BeautifulSoup(content, 'html.parser')"
   ]
  },
  {
   "cell_type": "code",
   "execution_count": 3,
   "id": "4bbfa8d9-827b-4c03-90ba-c5d1ca979c44",
   "metadata": {},
   "outputs": [],
   "source": [
    "hotels=soup.find_all('div',{'class':'c1edfbabcb'})"
   ]
  },
  {
   "cell_type": "code",
   "execution_count": 4,
   "id": "7302febc-1f86-4a47-b6f9-3dd9a5f1f36b",
   "metadata": {},
   "outputs": [],
   "source": [
    "hotel_name=[]\n",
    "dis_beach=[]\n",
    "grade=[]\n",
    "location_score=[]\n",
    "dis_center=[]\n",
    "price=[]\n",
    "opinion_number=[]\n",
    "linke=[]"
   ]
  },
  {
   "cell_type": "code",
   "execution_count": 5,
   "id": "847ddcf8-7c8d-49cd-8f98-51e92ea32c7b",
   "metadata": {},
   "outputs": [],
   "source": [
    "for hotel in hotels:\n",
    "    hotel_name.append(hotel.find('div',{'class':'f6431b446c a15b38c233'}).get_text())\n",
    "    num_pf_opin=hotel.find('div',{'class':'abf093bdfe f45d8e4c32 d935416c47'}).get_text()\n",
    "    opinion_number.append((re.findall(\"(.*).חוות דעת\",num_pf_opin)[0]).replace(',', ''))\n",
    "    center=hotel.find('span',{'data-testid':\"distance\"}).get_text()\n",
    "    if \"ק''מ\" in center:\n",
    "        dis_center.append(float(re.findall(\"(.*).+ק''מ\",center)[0])*1000)\n",
    "    else:\n",
    "        if \"מול\" in center:\n",
    "            dis_center.append(0)\n",
    "        else:\n",
    "            dis_center.append(float(re.findall(\"(.*).מ'\",center)[0]))\n",
    "    beach=hotel.find('span',{'class':'abf093bdfe b058f54b9a'}).get_text()\n",
    "    if \"ק''מ\" in beach:\n",
    "        dis_beach.append(float(re.findall(\"(.*).+ק''מ\",beach)[0])*1000)\n",
    "    else:\n",
    "        if \"מול\" in beach:\n",
    "            dis_beach.append(0)\n",
    "        else:\n",
    "            dis_beach.append(float(re.findall(\"(.*).מ'\",beach)[0]))\n",
    "    grade.append(float(hotel.find('div',{'class':'a3b8729ab1 d86cee9b25'}).get_text()))\n",
    "    location_score.append(float(hotel.find('div',{'class':'a3b8729ab1 d86cee9b25'}).get_text()))\n",
    "    price.append(int(''.join(re.findall(r'\\d',hotel.find('span',{'class':'f6431b446c fbfd7c1165 e84eb96b1f'}).get_text()))))"
   ]
  },
  {
   "cell_type": "code",
   "execution_count": 6,
   "id": "9fa95e6e-1815-4df2-aa48-26b3cbb8f554",
   "metadata": {},
   "outputs": [],
   "source": [
    "df={\"hotel_name\":hotel_name,\"Dist_from_the_beach\":dis_beach,\"Dist_from_the_center\":dis_center,\"price\":price,\"opinion_number\":opinion_number,\"location_score\":location_score,\"grade\":grade}\n",
    "df = pd.DataFrame(df)"
   ]
  },
  {
   "cell_type": "code",
   "execution_count": 7,
   "id": "73b878d6-d333-4984-9b97-6be233ee091e",
   "metadata": {},
   "outputs": [],
   "source": [
    "#links=[\"מלון בוטיק דיזנגוף אווניו.html\",\"Beach Boutique Hotel And Spa By TLV hotels.html\"]\n",
    "links=[\"מלון בוטיק דיזנגוף אווניו.html\",\"Beach Boutique Hotel And Spa By TLV hotels.html\",\"מלון BY14 TLV.html\",\"דירות רוק 130.html\",\"סלינה פרישמן תל אביב.html\",\"בראון ברוט Seafront.html\",\"מלון פרימה סיטי.html\",\"Mulan TLV Hotel.html\",\"H7 TLV.html\",\"קראון פלזה סיטי סנטר תל אביב.html\",\"פרימה תל אביב.html\",\"מלון אמבסי תל אביב,.html\",\"Assemblage Boutique.html\",\"מלון סבוי תל אביב.html\",\"סלינה חוף תל אביב.html\",\"מלון בוטיק אולטרה תל אביב.html\",\"פלורנטין האוס.html\",\"מלון אינדיגו תל אביב - מתחם הבורסה ליהלומים.html\",\"Abraham Tel Aviv.html\",\"הוטל 75 מרשת מלונות פרימה.html\",\"דיזינגוף אין אפרטמנטס.html\",\"Link Hotel & Hub מרשת מלונות דן.html\",\"סי נט מבית AFI HOTELS.html\",\"מלון אברטל סוויטס.html\",\"סאן סיטי.html\"]"
   ]
  },
  {
   "cell_type": "code",
   "execution_count": 8,
   "id": "40098f54-067c-41e9-9463-6929f214377e",
   "metadata": {},
   "outputs": [],
   "source": [
    "name_id=[]\n",
    "location_hotel=[]\n",
    "team_score=[]\n",
    "comfort_score=[]\n",
    "score_internet=[]\n",
    "facility_spec=[]\n",
    "score_equal_price=[]\n",
    "cleanliness_score=[]\n",
    "opinions={}"
   ]
  },
  {
   "cell_type": "code",
   "execution_count": 9,
   "id": "80604799-3432-40f6-9887-f7d7d5359822",
   "metadata": {
    "tags": []
   },
   "outputs": [],
   "source": [
    "for link in links:\n",
    "    file_path = \"hotels_pages\\\\\" + link\n",
    "    \n",
    "    with open(file_path, 'r', encoding='utf-8') as file:\n",
    "        content = file.read()\n",
    "\n",
    "    soup = BeautifulSoup(content, 'html.parser')\n",
    "    \n",
    "    hotel_pages = soup.find_all('div', {\"id\": \"hotelTmpl\"})\n",
    "    name_of_hotel=soup.find('h2', {\"class\": \"d2fee87262 pp-header__title\"}).get_text()\n",
    "    name_id.append(name_of_hotel)\n",
    "#location\n",
    "    for hotel_page in hotel_pages:\n",
    "        location_spans = hotel_page.find_all('span', {\"data-node_tt_id\": \"location_score_tooltip\"})\n",
    "\n",
    "        for location_span in location_spans:\n",
    "            location_hotel.append(location_span.get_text().strip())\n",
    "#scores\n",
    "    categorys=soup.find('div', {\"class\":\"aca0ade214 ebac6e22e9 f66f916626 c2931f4182 c27e5d305d db150fece4\"})\n",
    "    for cat in categorys:\n",
    "        scores=cat.get_text()\n",
    "        if \"צוות\" in scores:\n",
    "            team_score.append(float(re.findall(\"צוות.(.*)\",scores)[0]))\n",
    "        elif \"מתקנים\" in scores:\n",
    "            facility_spec.append(float(re.findall(\"מתקנים.(.*)\",scores)[0]))\n",
    "        elif \"ניקיון\" in scores:\n",
    "            cleanliness_score.append(float(re.findall(\"ניקיון.(.*)\",scores)[0]))\n",
    "        elif \"נוחות\" in scores:\n",
    "            comfort_score.append(float(re.findall(\"נוחות.(.*)\",scores)[0]))\n",
    "        elif \"תמורה למחיר\" in scores:\n",
    "            score_equal_price.append(float(re.findall(\"תמורה למחיר.(.*)\",scores)[0]))\n",
    "        elif \"אינטרנט אלחוטי חינם\" in scores:\n",
    "            score_internet.append(float(re.findall(\"אינטרנט אלחוטי חינם.(.*)\",scores)[0]))\n"
   ]
  },
  {
   "cell_type": "code",
   "execution_count": 10,
   "id": "5e5fff5f-a5d6-4460-bb03-4ca5f68b85f6",
   "metadata": {},
   "outputs": [],
   "source": [
    "df_to_marg={\"hotel_name\":name_id,\"Address\":location_hotel,\"team_score\":team_score,\"comfort_score\":comfort_score,\"score_internet\":score_internet,\"facility_spec\":facility_spec,\"score_equal_price\":score_equal_price,\"cleanliness_score\":cleanliness_score}\n",
    "df_to_marg = pd.DataFrame(df_to_marg)"
   ]
  },
  {
   "cell_type": "code",
   "execution_count": 11,
   "id": "076778f7-5ee5-4084-812e-97f4dd42dcdc",
   "metadata": {},
   "outputs": [],
   "source": [
    "names=df[\"hotel_name\"].tolist()\n",
    "to_marg=df_to_marg[\"hotel_name\"].tolist()"
   ]
  },
  {
   "cell_type": "code",
   "execution_count": 12,
   "id": "99d19087-2536-4cbf-8b48-50658be9b4bc",
   "metadata": {},
   "outputs": [],
   "source": [
    "difference_list1 = [item for item in names if item not in to_marg]\n",
    "difference_list2 = [item for item in to_marg if item not in names]"
   ]
  },
  {
   "cell_type": "code",
   "execution_count": 13,
   "id": "86e2d6bc-9b4d-4b80-94e7-cca67e143744",
   "metadata": {},
   "outputs": [],
   "source": [
    "data= pd.merge(df, df_to_marg, on='hotel_name', how='left')"
   ]
  },
  {
   "cell_type": "code",
   "execution_count": 14,
   "id": "eba49a0a-2efb-4bfe-94f7-68bc4df76622",
   "metadata": {
    "tags": []
   },
   "outputs": [],
   "source": [
    "names=df[\"hotel_name\"].tolist()\n",
    "to_marg=df_to_marg[\"hotel_name\"].tolist()"
   ]
  },
  {
   "cell_type": "code",
   "execution_count": 15,
   "id": "adf17e33-c63f-4bad-9fbe-39ba9f5a48d9",
   "metadata": {},
   "outputs": [],
   "source": [
    "for name in names:\n",
    "    if name not in to_marg:\n",
    "        print(name)"
   ]
  },
  {
   "cell_type": "code",
   "execution_count": 16,
   "id": "cb5fed35-b392-4f86-ae59-5c8843630d0f",
   "metadata": {},
   "outputs": [],
   "source": [
    "data.to_csv('Hotel_details.csv', index=False)"
   ]
  },
  {
   "cell_type": "code",
   "execution_count": 17,
   "id": "7d704720-7c72-411c-9d03-f489e296d447",
   "metadata": {},
   "outputs": [],
   "source": [
    "opinion_df = pd.DataFrame(opinions)"
   ]
  },
  {
   "cell_type": "code",
   "execution_count": 18,
   "id": "b95b0073-2ffc-4f7d-a9b4-4681414f2f15",
   "metadata": {},
   "outputs": [],
   "source": [
    "#Finish pulling data - start analysis"
   ]
  },
  {
   "cell_type": "code",
   "execution_count": 19,
   "id": "78f60223-dd3b-4ee7-878e-75d2cf4ebbc6",
   "metadata": {},
   "outputs": [],
   "source": [
    "links=[\"חווד סאן סיטי.html\",\"חווד דירות רוק 130.html\",\"סי נט מבית AFI HOTELS חווד.html\",\"מלון BY14 TLV חווד.html\",\"חווד מלון אינדיגו תל אביב.html\",\"Mulan TLV Hotel חווד.html\",\"חווד פלורנטין האוס.html\",\"חווד בראון ברוט Seafront.html\",\"חווד דיזינגוף אין אפרטמנטס.html\",\"חווד Hub מרשת מלונות דן.html\",\"Abraham Tel Aviv חווד.html\",\"Beach Boutique Hotel And Spa By TLV hotels חווד.html\",\"חווד סלינה חוף תל אביב.html\",\"חווד קראון פלזה סיטי סנטר תל אביב.html\",\"H7 TLV חווד.html\",\"חווד סלינה פרישמן תל אביב.html\",\"חווד הוטל 75 מרשת מלונות פרימה.html\",\"חווד מלון סבוי תל אביב.html\",\"חווד מלון בוטיק אולטרה תל אביב.html\",\"חווד מלון פרימה סיטי.html\",\"חווד מלון אמבסי תל אביב.html\",\"Assemblage Boutique חווד.html\",\"חווד מלון אברטל סוויטס.html\",\"חווד פרימה תל אביב.html\",\"חווד מלון בוטיק דיזנגוף אווניו.html\"]"
   ]
  },
  {
   "cell_type": "code",
   "execution_count": 20,
   "id": "757522d9-b26b-4605-93fe-c233f1f77c39",
   "metadata": {},
   "outputs": [],
   "source": [
    "opinion_hotel=[]\n",
    "for link in links:\n",
    "    file_path = \"hotels_pages\\\\\"+link\n",
    "    \n",
    "    with open(file_path, 'r', encoding='utf-8') as file:\n",
    "        content = file.read()\n",
    "\n",
    "    soup = BeautifulSoup(content, 'html.parser')\n",
    "    opinions_hotl_name=soup.find_all('h2', {\"class\": \"d2fee87262 pp-header__title\"})\n",
    "    for name in opinions_hotl_name:\n",
    "        opinion_hotel.append(name.get_text())"
   ]
  },
  {
   "cell_type": "code",
   "execution_count": 21,
   "id": "e7386ebf-c9af-4a30-bb67-a3dc08bbc308",
   "metadata": {},
   "outputs": [],
   "source": [
    "index_name = 0\n",
    "opinions2 = {} \n",
    "for link in links:\n",
    "    file_path = \"hotels_pages\\\\\" + link\n",
    "\n",
    "    with open(file_path, 'r', encoding='utf-8') as file:\n",
    "        content = file.read()\n",
    "\n",
    "    soup = BeautifulSoup(content, 'html.parser')\n",
    "    opinions_all = soup.find_all('div', {\"class\": \"c-review\"})\n",
    "    name = opinion_hotel[index_name]\n",
    "\n",
    "    opinions_list = [] \n",
    "    for opin in opinions_all:\n",
    "        if opin is not np.nan:\n",
    "            to_enter=opin.get_text().replace('\\n', '').replace('אהבו', '').replace('לא אהבו', '').replace('מתרגם... - הצג מקורהצגת התרגום', '').replace('\\xa0', '')\n",
    "            opinions_list.append(to_enter.replace('לא', '').replace('·', ''))\n",
    "        else:\n",
    "            opinions_list.append(\"\")\n",
    "\n",
    "    opinions2[name] = opinions_list\n",
    "    index_name += 1"
   ]
  },
  {
   "cell_type": "code",
   "execution_count": 22,
   "id": "461d226e-d360-4d30-b276-9cb7ee589cd9",
   "metadata": {},
   "outputs": [],
   "source": [
    "opinion_df = pd.DataFrame(opinions2)\n",
    "opinion_df.to_csv('opinions_hotel.csv', index=False)"
   ]
  }
 ],
 "metadata": {
  "kernelspec": {
   "display_name": "Python 3 (ipykernel)",
   "language": "python",
   "name": "python3"
  },
  "language_info": {
   "codemirror_mode": {
    "name": "ipython",
    "version": 3
   },
   "file_extension": ".py",
   "mimetype": "text/x-python",
   "name": "python",
   "nbconvert_exporter": "python",
   "pygments_lexer": "ipython3",
   "version": "3.8.10"
  }
 },
 "nbformat": 4,
 "nbformat_minor": 5
}
